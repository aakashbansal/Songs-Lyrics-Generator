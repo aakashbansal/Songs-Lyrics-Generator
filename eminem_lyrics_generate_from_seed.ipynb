{
 "cells": [
  {
   "cell_type": "code",
   "execution_count": 1,
   "metadata": {},
   "outputs": [
    {
     "name": "stderr",
     "output_type": "stream",
     "text": [
      "Using TensorFlow backend.\n"
     ]
    }
   ],
   "source": [
    "from keras.models import load_model\n",
    "import sys\n",
    "import numpy as np"
   ]
  },
  {
   "cell_type": "code",
   "execution_count": 2,
   "metadata": {},
   "outputs": [
    {
     "name": "stdout",
     "output_type": "stream",
     "text": [
      "Total Characters :  30\n",
      "['\\n', ' ', \"'\", ',', 'a', 'b', 'c', 'd', 'e', 'f', 'g', 'h', 'i', 'j', 'k', 'l', 'm', 'n', 'o', 'p', 'q', 'r', 's', 't', 'u', 'v', 'w', 'x', 'y', 'z']\n",
      "\n",
      " Character To Index Mapping : \n",
      "{'\\n': 0, ' ': 1, \"'\": 2, ',': 3, 'a': 4, 'b': 5, 'c': 6, 'd': 7, 'e': 8, 'f': 9, 'g': 10, 'h': 11, 'i': 12, 'j': 13, 'k': 14, 'l': 15, 'm': 16, 'n': 17, 'o': 18, 'p': 19, 'q': 20, 'r': 21, 's': 22, 't': 23, 'u': 24, 'v': 25, 'w': 26, 'x': 27, 'y': 28, 'z': 29}\n",
      "\n",
      " Index To Character Mapping : \n",
      "{0: '\\n', 1: ' ', 2: \"'\", 3: ',', 4: 'a', 5: 'b', 6: 'c', 7: 'd', 8: 'e', 9: 'f', 10: 'g', 11: 'h', 12: 'i', 13: 'j', 14: 'k', 15: 'l', 16: 'm', 17: 'n', 18: 'o', 19: 'p', 20: 'q', 21: 'r', 22: 's', 23: 't', 24: 'u', 25: 'v', 26: 'w', 27: 'x', 28: 'y', 29: 'z'}\n"
     ]
    }
   ],
   "source": [
    "# Model is trained to take 30 chars as input\n",
    "INPUT_TEXT_LEN_FIXED = 30 \n",
    "\n",
    "# This is the size of characters of output lyrics\n",
    "OUTPUT_CHARS = 400\n",
    "\n",
    "# Lyrics Alphabet Dictionary\n",
    "chars = ['\\n', ' ', \"'\", ',', 'a', 'b', 'c', 'd', 'e', 'f', 'g', 'h', 'i',\n",
    "       'j', 'k', 'l', 'm', 'n', 'o', 'p', 'q', 'r', 's', 't', 'u', 'v', 'w', 'x', 'y', 'z']\n",
    "\n",
    "# Create a dictionary mapping from character to index \n",
    "char_to_index = dict((c, i) for i, c in enumerate(chars))\n",
    "\n",
    "# Create a dictionary mapping from index to character \n",
    "index_to_char = dict((i, c) for i, c in enumerate(chars))\n",
    "\n",
    "print(\"Total Characters : \", len(chars))\n",
    "print(chars)\n",
    "print(\"\\n Character To Index Mapping : \")\n",
    "print(char_to_index)\n",
    "print(\"\\n Index To Character Mapping : \")\n",
    "print(index_to_char)\n",
    "\n"
   ]
  },
  {
   "cell_type": "code",
   "execution_count": 3,
   "metadata": {},
   "outputs": [],
   "source": [
    "# loading the pre-saved model\n",
    "model = load_model(\"lyrics_gen_model.h5\")"
   ]
  },
  {
   "cell_type": "code",
   "execution_count": 4,
   "metadata": {},
   "outputs": [],
   "source": [
    "# helper function to sample an index from a probability array\n",
    "def sample(preds, temperature=1.0):\n",
    "    epsilon = 1e-08\n",
    "    preds = np.asarray(preds).astype('float64')\n",
    "    preds = np.log(preds + epsilon) / temperature\n",
    "    exp_preds = np.exp(preds)\n",
    "    preds = exp_preds / np.sum(exp_preds)\n",
    "    probas = np.random.multinomial(1, preds, 1)\n",
    "    return np.argmax(probas)"
   ]
  },
  {
   "cell_type": "code",
   "execution_count": 5,
   "metadata": {},
   "outputs": [],
   "source": [
    "def predict_lyrics(seed):\n",
    "\n",
    "    for diversity in [0.1, 0.2]:\n",
    "        print('----- diversity:', diversity)\n",
    "\n",
    "        generated = ''\n",
    "        sentence = seed[:INPUT_TEXT_LEN_FIXED].lower()\n",
    "        generated += sentence\n",
    "        print('----- Generating with seed: \"' + sentence + '\"')\n",
    "        sys.stdout.write(generated)\n",
    "\n",
    "        for i in range(OUTPUT_CHARS):\n",
    "            x_pred = np.zeros((1, INPUT_TEXT_LEN_FIXED, len(chars)))\n",
    "            for t, char in enumerate(sentence):\n",
    "                x_pred[0, t, char_to_index[char]] = 1.\n",
    "\n",
    "            preds = model.predict(x_pred, verbose=0)[0]\n",
    "            next_index = sample(preds, diversity)\n",
    "            next_char = index_to_char[next_index]\n",
    "\n",
    "            generated += next_char\n",
    "            sentence = sentence[1:] + next_char\n",
    "\n",
    "            sys.stdout.write(next_char)\n",
    "            sys.stdout.flush()\n",
    "        print()"
   ]
  },
  {
   "cell_type": "code",
   "execution_count": 51,
   "metadata": {},
   "outputs": [
    {
     "name": "stdout",
     "output_type": "stream",
     "text": [
      "----- diversity: 0.1\n",
      "----- Generating with seed: \"i've been driving around your \"\n",
      "i've been driving around your strength and i was bad\n",
      "i ain't never seen and she loves you, the more i was bad\n",
      "i can see you and i was bad in the shit when i say i do\n",
      "i think my dad gone crazy\n",
      "there's no rhyme to say the word, i'm a straight on my face and start up the shit i was bound to be a control of the million in the same blonde\n",
      "and they say it isn't have to say this bitch and i won't stop it\n",
      "i got a couple of the back of\n",
      "----- diversity: 0.2\n",
      "----- Generating with seed: \"i've been driving around your \"\n",
      "i've been driving around your brain\n",
      "see weed there's a couple of minutes\n",
      "shoot and the way you don't let 'em say you ain't beautiful\n",
      "oh, it's let fire\n",
      "you welcome to through this shit\n",
      "i'm a stall of bed it's the real life to see, i'm sorry\n",
      "you don't wanna see you was a friend but i was blowing me\n",
      "i said this is what i'm says\n",
      "i was born and i'm not a machine got the start of me\n",
      "i was black and the way that i said i'm so somethi\n"
     ]
    }
   ],
   "source": [
    "# Characters allowed (a-z), (') , (,), (\\n), (<SPACE>) - 30 chars\n",
    "seed = \"I've been driving around your side\"\n",
    "\n",
    "# Given function will use the seed string to generate the most probable next 400 characters\n",
    "# Let's see what the model has learned!\n",
    "predict_lyrics(seed)"
   ]
  }
 ],
 "metadata": {
  "kernelspec": {
   "display_name": "Python 3",
   "language": "python",
   "name": "python3"
  },
  "language_info": {
   "codemirror_mode": {
    "name": "ipython",
    "version": 3
   },
   "file_extension": ".py",
   "mimetype": "text/x-python",
   "name": "python",
   "nbconvert_exporter": "python",
   "pygments_lexer": "ipython3",
   "version": "3.6.6"
  }
 },
 "nbformat": 4,
 "nbformat_minor": 2
}
